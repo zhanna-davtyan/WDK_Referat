{
 "cells": [
  {
   "cell_type": "markdown",
   "id": "0",
   "metadata": {},
   "source": [
    "## Verwendete Biblotheken "
   ]
  },
  {
   "cell_type": "code",
   "execution_count": null,
   "id": "1",
   "metadata": {},
   "outputs": [],
   "source": [
    "import couchdb\n",
    "import json \n",
    "import os \n",
    "import time \n",
    "from pathlib import Path\n",
    "from dotenv import load_dotenv\n"
   ]
  },
  {
   "cell_type": "markdown",
   "id": "2",
   "metadata": {},
   "source": [
    "Zweck: Den \"Gesprächskanal\" zwischen Python-Code und dem CouchDB-Server im Docker-Container herstellen und sicherstellen, dass die Zieldatenbank existiert."
   ]
  },
  {
   "cell_type": "code",
   "execution_count": null,
   "id": "3",
   "metadata": {},
   "outputs": [],
   "source": [
    "# --- VERBINDUNGS-PARAMETER ---\n",
    "# CouchDB-Benutzer und Passwort aus Umgebungsvariablen laden\n",
    "load_dotenv(dotenv_path='.env')\n",
    "COUCHDB_USER = os.getenv(\"COUCHDB_USER\")\n",
    "COUCHDB_PASSWORD = os.getenv(\"COUCHDB_PASSWORD\")\n",
    "COUCHDB_HOST = \"localhost:5984\" \n",
    "COUCHDB_URL = f\"http://{COUCHDB_USER}:{COUCHDB_PASSWORD}@{COUCHDB_HOST}\"\n",
    "DB_NAME = 'world_factbook' \n",
    "\n",
    "try:\n",
    "    server = couchdb.Server(COUCHDB_URL)\n",
    "    print(f\"Erfolgreich mit CouchDB Server verbunden: {server}\")\n",
    "\n",
    "    if DB_NAME in server:\n",
    "        db = server[DB_NAME]\n",
    "        print(f\"Datenbank '{DB_NAME}' existiert bereits.\")\n",
    "    else:\n",
    "        db = server.create(DB_NAME)\n",
    "        print(f\"Datenbank '{DB_NAME}' wurde neu erstellt.\")\n",
    "\n",
    "except Exception as e:\n",
    "    print(f\"FEHLER bei der Verbindung oder Datenbankerstellung: {e}\")\n",
    "    raise e "
   ]
  },
  {
   "cell_type": "markdown",
   "id": "4",
   "metadata": {},
   "source": [
    "Zweck: Die Rohdaten aus der countries.json-Datei von der Festplatte in den Arbeitsspeicher (RAM) des Computers laden und so aufbereiten."
   ]
  },
  {
   "cell_type": "code",
   "execution_count": null,
   "id": "5",
   "metadata": {},
   "outputs": [],
   "source": [
    "base_dir = Path.cwd()\n",
    "if base_dir.name == \"notebooks\":\n",
    "    base_dir = base_dir.parent \n",
    "json_path = base_dir / \"data\" / \"countries.json\"\n",
    "\n",
    "if not os.path.exists(json_path):\n",
    "     print(f\"FEHLER: JSON-Datei nicht gefunden unter: {json_path}\")\n",
    "     raise FileNotFoundError (f\"JSON-Datei nicht gefunden unter: {json_path}\")\n",
    "else:\n",
    "    print(f\"JSON-Datei gefunden unter: {json_path}\")\n",
    "\n",
    "try:\n",
    "    with open(json_path, 'r', encoding='utf-8') as f:\n",
    "        loaded_data = json.load(f)\n",
    "\n",
    "    if isinstance(loaded_data, dict):\n",
    "        print(\"JSON-Datei erfolgreich als Dictionary geladen (Ländernamen als Keys).\")\n",
    "        countries_data = list(loaded_data.values()) \n",
    "        total_docs_to_load = len(countries_data)\n",
    "        print(f\"Die Länderdaten wurden in eine Liste umgewandelt. {total_docs_to_load} Länder-Objekte gefunden.\")\n",
    "\n",
    "except json.JSONDecodeError as e:\n",
    "    print(f\"FEHLER beim Parsen der JSON-Datei: {e}\")\n",
    "    raise e\n",
    "except Exception as e:\n",
    "    print(f\"FEHLER beim Lesen oder Verarbeiten der JSON-Datei: {e}\")\n",
    "    raise e"
   ]
  },
  {
   "cell_type": "markdown",
   "id": "6",
   "metadata": {},
   "source": [
    "Zweck: Die im RAM vorbereiteten Länderdaten (aus countries_data) nehmen und dauerhaft als einzelne Dokumente in der CouchDB-Datenbank speichern.\n"
   ]
  },
  {
   "cell_type": "code",
   "execution_count": null,
   "id": "7",
   "metadata": {},
   "outputs": [],
   "source": [
    "docs_uploaded = 0\n",
    "docs_failed = 0\n",
    "\n",
    "if not 'countries_data' in locals() or not isinstance(countries_data, list):\n",
    "    print(\"FEHLER: 'countries_data' nicht korrekt geladen.\")\n",
    "else:\n",
    "    total_docs = len(countries_data)\n",
    "    existing_docs = len(db) \n",
    "    if existing_docs >= total_docs:\n",
    "        print(f\"Datenbank '{DB_NAME}' enthält bereits {existing_docs} Dokumente. Import wird übersprungen.\")\n",
    "    else:\n",
    "        print(f\"\\nStarte das Speichern von {total_docs} Dokumenten in CouchDB ('{DB_NAME}')...\")\n",
    "        start_time = time.time()\n",
    "\n",
    "        for i, country_doc in enumerate(countries_data):\n",
    "            try:\n",
    "                country_doc['type'] = 'country'\n",
    "                country_doc.pop('_id', None)\n",
    "\n",
    "                db.save(country_doc)\n",
    "                docs_uploaded += 1\n",
    "\n",
    "            except Exception as e:\n",
    "                print(f\"\\nFEHLER beim Speichern von Dokument {i} ('{country_doc.get('Country', 'N/A')}') : {e}\")\n",
    "                docs_failed += 1\n",
    "\n",
    "            if (i + 1) % 100 == 0 or (i + 1) == total_docs:\n",
    "                elapsed_time = time.time() - start_time\n",
    "                print(f\"  Verarbeitet: {i + 1}/{total_docs} | Gespeichert: {docs_uploaded} | Fehler: {docs_failed} | Zeit: {elapsed_time:.2f}s\")\n",
    "\n",
    "        end_time = time.time()\n",
    "        print(f\"Gesamtzeit: {end_time - start_time:.2f}s\")\n",
    "        print(f\"Erfolgreich gespeicherte Dokumente: {docs_uploaded}\")\n",
    "        print(f\"Fehlgeschlagene Dokumente: {docs_failed}\")\n",
    "\n",
    "    time.sleep(2)\n",
    "    try:\n",
    "        db = server[DB_NAME]\n",
    "        final_doc_count = len(db) \n",
    "        print(f\"\\nAnzahl Dokumente in DB '{DB_NAME}': {final_doc_count}\")\n",
    "    except Exception as e:\n",
    "        print(f\"Fehler beim Abrufen der finalen Dokumentenanzahl: {e}\")"
   ]
  }
 ],
 "metadata": {
  "kernelspec": {
   "display_name": ".venv",
   "language": "python",
   "name": "python3"
  },
  "language_info": {
   "codemirror_mode": {
    "name": "ipython",
    "version": 3
   },
   "file_extension": ".py",
   "mimetype": "text/x-python",
   "name": "python",
   "nbconvert_exporter": "python",
   "pygments_lexer": "ipython3",
   "version": "3.10.11"
  }
 },
 "nbformat": 4,
 "nbformat_minor": 5
}
