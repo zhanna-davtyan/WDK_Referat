{
 "cells": [
  {
   "cell_type": "code",
   "execution_count": null,
   "id": "0",
   "metadata": {},
   "outputs": [],
   "source": [
    "import couchdb\n",
    "import json\n",
    "import pandas as pd \n",
    "import numpy as np\n",
    "import os\n",
    "from dotenv import load_dotenv\n",
    "import re \n",
    "from collections import Counter\n",
    "from IPython.display import JSON\n",
    "import matplotlib.pyplot as plt\n",
    "import seaborn as sns\n"
   ]
  },
  {
   "cell_type": "markdown",
   "id": "1",
   "metadata": {},
   "source": [
    "## 1. Verbindung zur existierenden Datenbank"
   ]
  },
  {
   "cell_type": "code",
   "execution_count": null,
   "id": "2",
   "metadata": {},
   "outputs": [],
   "source": [
    "load_dotenv(dotenv_path='.env')\n",
    "COUCHDB_USER = os.getenv(\"COUCHDB_USER\")\n",
    "COUCHDB_PASSWORD = os.getenv(\"COUCHDB_PASSWORD\")\n",
    "COUCHDB_HOST = \"localhost:5984\"  \n",
    "COUCHDB_URL = f\"http://{COUCHDB_USER}:{COUCHDB_PASSWORD}@{COUCHDB_HOST}\"\n",
    "DB_NAME = 'world_factbook' \n",
    "\n",
    "try: \n",
    "    server = couchdb.Server(COUCHDB_URL)\n",
    "    print(f\"Erfolgreich verbunden mit CouchDB unter {COUCHDB_URL}\")\n",
    "    \n",
    "    if DB_NAME in server:\n",
    "        db = server[DB_NAME]\n",
    "        print(f\"Datenbank {DB_NAME} erfolgreich ausgewählt\")\n",
    "    else:\n",
    "        print(f\"Datenbank {DB_NAME} nicht gefunden!\")\n",
    "        raise LookupError(f\"Datenbank {DB_NAME} nicht gefunden!\")\n",
    "\n",
    "except Exception as e:\n",
    "    print(f\"Fehler beim Verbinden mit CouchDB: {e}\")\n",
    "    raise e"
   ]
  },
  {
   "cell_type": "markdown",
   "id": "3",
   "metadata": {},
   "source": [
    "### Hilfsfunktion zum Erstellen/Aktualisieren von Design-Dokumenten"
   ]
  },
  {
   "cell_type": "code",
   "execution_count": null,
   "id": "4",
   "metadata": {},
   "outputs": [],
   "source": [
    "def sync_design_doc(db_handle, design_doc_dict):\n",
    "    if not db_handle:\n",
    "        print(\"sync_design_doc: Keine Datenbankverbindung.\")\n",
    "        return False\n",
    "        \n",
    "    doc_id = design_doc_dict['_id']\n",
    "    try:\n",
    "        existing_doc = db_handle.get(doc_id)\n",
    "        if existing_doc:\n",
    "            if existing_doc.get('views') != design_doc_dict.get('views') or \\\n",
    "               existing_doc.get('language') != design_doc_dict.get('language'):\n",
    "                design_doc_dict['_rev'] = existing_doc['_rev'] \n",
    "                db_handle.save(design_doc_dict)\n",
    "                print(f\"Design-Dokument '{doc_id}' aktualisiert.\")\n",
    "                return True\n",
    "            else:\n",
    "                print(f\"Design-Dokument '{doc_id}' ist bereits aktuell.\")\n",
    "                return False\n",
    "        else:\n",
    "            # Design-Dokument existiert nicht, neu erstellen\n",
    "            db_handle.save(design_doc_dict)\n",
    "            print(f\"Design-Dokument '{doc_id}' erstellt.\")\n",
    "            return True\n",
    "    except Exception as e:\n",
    "        print(f\"Fehler beim Synchronisieren des Design-Dokuments '{doc_id}': {e}\")\n",
    "        return False"
   ]
  },
  {
   "cell_type": "markdown",
   "id": "5",
   "metadata": {},
   "source": [
    "### Hilfsfunktion zum Parsen von Zahlen aus Strings\n"
   ]
  },
  {
   "cell_type": "code",
   "execution_count": null,
   "id": "6",
   "metadata": {},
   "outputs": [],
   "source": [
    "def parse_numeric_value_from_string(value_str, is_percentage=False, is_rate_per_1000=False):\n",
    "    if pd.isna(value_str) or not isinstance(value_str, str):\n",
    "        return np.nan # Wichtig für Pandas Operationen wie Quantilberechnung\n",
    "    match = re.search(r'(-?\\d+\\.?\\d*|-?\\d*\\.?\\d+)', value_str)\n",
    "    if match and match[0]:\n",
    "        val = float(match.group(1))\n",
    "        # Spezifische Anpassungen, falls nötig (hier nicht, da Quantile relativ sind)\n",
    "        return val\n",
    "    return np.nan"
   ]
  },
  {
   "cell_type": "markdown",
   "id": "7",
   "metadata": {},
   "source": [
    "## Datenauswertung"
   ]
  },
  {
   "cell_type": "markdown",
   "id": "8",
   "metadata": {},
   "source": [
    "## Analyse 1: Wirtschaftliche Dynamik und Ungleichheit \n",
    "\n",
    "**Fragestellung:** Welche Länder verzeichnen ein hohes reales Wirtschaftswachstum, weisen aber gleichzeitig eine hohe Einkommensungleichheit (gemessen am Gini-Koeffizienten) auf?\n",
    "\n",
    "**Ziel der Analyse:** Diese Analyse soll Länder identifizieren, bei denen der generierte Wohlstand möglicherweise nicht breit in der Bevölkerung ankommt oder bei denen schnelles Wirtschaftswachstum mit einer Zunahme der Ungleichheit einhergeht. Dies kann Anstöße für Diskussionen über Verteilungsgerechtigkeit und die Nachhaltigkeit von Wachstumsmodellen geben.\n",
    "\n",
    "**Benötigte Felder:**\n",
    "* `Economy: Real GDP growth rate` – Gibt die jährliche prozentuale Veränderung des realen Bruttoinlandsprodukts an.\n",
    "* `Economy: Gini Index coefficient - distribution of family income` – Ein Maß für die Ungleichverteilung der Einkommen oder des Konsums innerhalb eines Landes. Ein Wert von 0 bedeutet vollkommene Gleichheit, ein Wert von 100 bedeutet vollkommene Ungleichheit.\n",
    "* `Government: Country name - conventional short form` – Für die Identifikation der Länder.\n",
    "\n",
    "**CouchDB-Technik: Map View**\n",
    "Erstellung einer Map View namens `gdp_growth_vs_gini`.\n",
    "* **Map-Funktion:** Diese JavaScript-Funktion wird für jedes relevante Dokument ausgeführt.\n",
    "    1.  Sie prüft, ob die Felder für die Wachstumsrate und den Gini-Index vorhanden sind.\n",
    "    2.  Sie **parst** die als String vorliegenden Werte für Wachstumsrate (z.B. aus \"3.5%\" wird `3.5`) und den Gini-Koeffizienten (z.B. aus \"42.5\" wird `42.5`) in numerische Formate. \n",
    "    3.  Bei erfolgreichem Parsen emittiert die Funktion einen **zusammengesetzten Schlüssel** `[parsed_gdp_growth, parsed_gini]` und den Ländernamen als Wert.\n",
    "    4.  Dokumente, bei denen das Parsing fehlschlägt oder Felder fehlen, werden nicht emittiert.\n",
    "\n",
    "**Abfrage der View aus Python:**\n",
    "Die erstellte View kann dann mit `startkey`- und `endkey`-Parametern abgefragt werden, um Länder zu finden, deren Wachstumsraten und Gini-Koeffizienten in bestimmten Wertebereichen liegen. Python dient dazu, die View-Definition zu erstellen/aktualisieren, die Abfrage zu formulieren und die Ergebnisse darzustellen."
   ]
  },
  {
   "cell_type": "code",
   "execution_count": null,
   "id": "9",
   "metadata": {},
   "outputs": [],
   "source": [
    "if db:\n",
    "    design_doc_economic_analysis = {\n",
    "        '_id': '_design/economic_analysis', \n",
    "        'language': 'javascript',\n",
    "        'views': {\n",
    "            'gdp_growth_vs_gini': { \n",
    "                'map': \"\"\"\n",
    "                    function(doc) {\n",
    "                        if (doc.type === 'country' && \n",
    "                            doc[\"Economy: Real GDP growth rate\"] && \n",
    "                            doc[\"Economy: Gini Index coefficient - distribution of family income\"] &&\n",
    "                            doc[\"Government: Country name - conventional short form\"]) {\n",
    "\n",
    "                            var gdp_growth_str = doc[\"Economy: Real GDP growth rate\"];\n",
    "                            var gini_str = doc[\"Economy: Gini Index coefficient - distribution of family income\"];\n",
    "                            var country_name = doc[\"Government: Country name - conventional short form\"];\n",
    "\n",
    "                            var parsed_gdp_growth = null;\n",
    "                            var parsed_gini = null;\n",
    "\n",
    "                            var match_growth = gdp_growth_str.match(/(-?\\\\d+\\\\.?\\\\d*)/);\n",
    "                            if (match_growth[0]) {\n",
    "                                parsed_gdp_growth = parseFloat(match_growth[0]);    \n",
    "                            } \n",
    "\n",
    "                            var match_gini = gini_str.match(/(\\\\d+\\\\.?\\\\d*)/);\n",
    "                            if (match_gini[0]) {\n",
    "                                parsed_gini = parseFloat(match_gini[0]);\n",
    "                            } \n",
    "\n",
    "                            emit([parsed_gdp_growth, parsed_gini], country_name);\n",
    "                            \n",
    "                        }\n",
    "                    }\n",
    "                \"\"\"\n",
    "            }\n",
    "        }\n",
    "    }\n",
    "\n",
    "    # Design-Dokument in CouchDB speichern/aktualisieren\n",
    "    sync_design_doc(db, design_doc_economic_analysis)\n",
    "\n",
    "    wachstum_schwellenwert = 4.0\n",
    "    gini_schwellenwert = 40.0\n",
    "\n",
    "    print(f\"\\nView-Abfrage für Länder mit: \\nReal GDP growth > {wachstum_schwellenwert}% UND Gini Index > {gini_schwellenwert}\")\n",
    "    try:\n",
    "        query_startkey = [wachstum_schwellenwert, gini_schwellenwert]\n",
    "        query_endkey = [{}, {}] # {} -> Bis zum Maximum für beide Schlüsselkomponenten\n",
    "\n",
    "        results = db.view(\n",
    "            'economic_analysis/gdp_growth_vs_gini',\n",
    "            startkey=query_startkey,\n",
    "            endkey=query_endkey,\n",
    "            reduce=False \n",
    "        )\n",
    "\n",
    "        found_countries = []\n",
    "        for row in results:\n",
    "            found_countries.append({\n",
    "                'Land': row.value,\n",
    "                'Wachstumsrate (%)': row.key[0],\n",
    "                'Gini-Index': row.key[1]\n",
    "            })\n",
    "\n",
    "        if found_countries:\n",
    "            df_results = pd.DataFrame(found_countries)\n",
    "            print(f\"\\n{len(df_results)} Länder gefunden, die die Kriterien erfüllen:\")\n",
    "            display(df_results.sort_values(by=['Wachstumsrate (%)', 'Gini-Index'], ascending=[False, False]))\n",
    "        else:\n",
    "            print(\"\\nKeine Länder gefunden, die die spezifizierten Kriterien erfüllen.\")\n",
    "            \n",
    "    except Exception as e:\n",
    "        print(f\"Fehler beim Abfragen der View 'gdp_growth_vs_gini': {e}\")\n",
    "else:\n",
    "    print(\"Keine Datenbankverbindung ('db'), Analyse übersprungen.\")"
   ]
  },
  {
   "cell_type": "markdown",
   "id": "10",
   "metadata": {},
   "source": [
    "## Analyse 2: Bildungsrendite-Paradoxon (Kategorisierte Profile)"
   ]
  },
  {
   "cell_type": "code",
   "execution_count": null,
   "id": "11",
   "metadata": {},
   "outputs": [],
   "source": []
  }
 ],
 "metadata": {
  "kernelspec": {
   "display_name": ".venv",
   "language": "python",
   "name": "python3"
  },
  "language_info": {
   "codemirror_mode": {
    "name": "ipython",
    "version": 3
   },
   "file_extension": ".py",
   "mimetype": "text/x-python",
   "name": "python",
   "nbconvert_exporter": "python",
   "pygments_lexer": "ipython3",
   "version": "3.10.11"
  }
 },
 "nbformat": 4,
 "nbformat_minor": 5
}
